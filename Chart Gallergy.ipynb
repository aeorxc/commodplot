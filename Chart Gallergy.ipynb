{
 "cells": [
  {
   "cell_type": "markdown",
   "id": "republican-wedding",
   "metadata": {},
   "source": [
    "### Commodplot"
   ]
  },
  {
   "cell_type": "markdown",
   "id": "backed-generation",
   "metadata": {},
   "source": [
    "This library is used to to produce seasonal and reindex charts commonly used for commodities trading."
   ]
  },
  {
   "cell_type": "code",
   "execution_count": null,
   "id": "fourth-livestock",
   "metadata": {},
   "outputs": [],
   "source": [
    "from commodplot import commodplot\n",
    "from commodutil import forwards\n",
    "import os\n",
    "import pandas as pd\n",
    "pd.options.plotting.backend = \"plotly\""
   ]
  },
  {
   "cell_type": "markdown",
   "id": "premium-palestinian",
   "metadata": {},
   "source": [
    "### Seasonal Chart"
   ]
  },
  {
   "cell_type": "code",
   "execution_count": null,
   "id": "oriented-witch",
   "metadata": {},
   "outputs": [],
   "source": [
    "# read in some data\n",
    "cl = pd.read_csv(os.path.join('test', 'test_cl.csv'), index_col=0, parse_dates=True, dayfirst=True)\n",
    "cl = cl.dropna(how='all', axis=1)\n",
    "cl = cl.dropna(how='all', axis=1)\n",
    "fwd = pd.DataFrame([50 for x in range(12)], index=pd.date_range('2021-01-01', periods=12, freq='MS'))\n"
   ]
  },
  {
   "cell_type": "code",
   "execution_count": null,
   "id": "czech-tobacco",
   "metadata": {},
   "outputs": [],
   "source": [
    "commodplot.seas_line_plot(cl[cl.columns[-1]], fwd=fwd, shaded_range=5, title='WTI', visible_line_years=3)       "
   ]
  },
  {
   "cell_type": "markdown",
   "id": "unlimited-layer",
   "metadata": {},
   "source": [
    "### ReIndex Chart"
   ]
  },
  {
   "cell_type": "code",
   "execution_count": null,
   "id": "adult-membership",
   "metadata": {},
   "outputs": [],
   "source": [
    "cl = pd.read_csv(os.path.join('test', 'test_cl.csv'), index_col=0, parse_dates=True, dayfirst=True)\n",
    "cl = cl.dropna(how='all', axis=1)\n",
    "cl = cl.rename(columns={x: pd.to_datetime(forwards.convert_contract_to_date(x)) for x in cl.columns})\n",
    "\n",
    "sp = forwards.time_spreads(cl, 12, 12)\n",
    "sp = sp[sp.columns[-7:]]"
   ]
  },
  {
   "cell_type": "code",
   "execution_count": null,
   "id": "incorrect-volleyball",
   "metadata": {},
   "outputs": [],
   "source": [
    "commodplot.reindex_year_line_plot(sp, title='WTI December Contracts')"
   ]
  },
  {
   "cell_type": "markdown",
   "id": "vocal-forest",
   "metadata": {},
   "source": [
    "The chart above reindexes the individual December contracts to the current year. \n",
    "Without reindexing it would appear as the following:"
   ]
  },
  {
   "cell_type": "code",
   "execution_count": null,
   "id": "indoor-decade",
   "metadata": {},
   "outputs": [],
   "source": [
    "sp.plot(title='WTI December Contracts')"
   ]
  },
  {
   "cell_type": "code",
   "execution_count": null,
   "id": "competent-railway",
   "metadata": {},
   "outputs": [],
   "source": []
  }
 ],
 "metadata": {
  "kernelspec": {
   "display_name": "Python 3",
   "language": "python",
   "name": "python3"
  },
  "language_info": {
   "codemirror_mode": {
    "name": "ipython",
    "version": 3
   },
   "file_extension": ".py",
   "mimetype": "text/x-python",
   "name": "python",
   "nbconvert_exporter": "python",
   "pygments_lexer": "ipython3",
   "version": "3.8.6"
  }
 },
 "nbformat": 4,
 "nbformat_minor": 5
}
